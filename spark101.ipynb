{
 "cells": [
  {
   "cell_type": "markdown",
   "id": "c07f2f96-ea38-4e6b-a909-9d076bd90216",
   "metadata": {},
   "source": [
    "Just seeing if I installed Spark correctly"
   ]
  },
  {
   "cell_type": "code",
   "execution_count": 1,
   "id": "52fabed9-7b8d-4064-b124-2286eea31c51",
   "metadata": {},
   "outputs": [],
   "source": [
    "import pyspark\n",
    "\n",
    "spark = pyspark.sql.SparkSession.builder.getOrCreate()"
   ]
  },
  {
   "cell_type": "code",
   "execution_count": 2,
   "id": "3250a745-be78-40e0-8a78-56e42f2d0892",
   "metadata": {},
   "outputs": [
    {
     "name": "stdout",
     "output_type": "stream",
     "text": [
      "+---+\n",
      "| id|\n",
      "+---+\n",
      "|  0|\n",
      "|  1|\n",
      "|  2|\n",
      "|  3|\n",
      "|  4|\n",
      "|  5|\n",
      "+---+\n",
      "\n"
     ]
    }
   ],
   "source": [
    "spark.range(6).show()"
   ]
  },
  {
   "cell_type": "markdown",
   "id": "79e95ef6-969e-4a6b-9303-3f0defbb4e68",
   "metadata": {},
   "source": [
    "---"
   ]
  },
  {
   "cell_type": "code",
   "execution_count": 3,
   "id": "0d33f120-7d5e-4b79-8b0c-0f2db88f662e",
   "metadata": {},
   "outputs": [],
   "source": [
    "import pandas as pd\n",
    "import numpy as np\n",
    "\n",
    "from pydataset import data\n",
    "from pyspark.sql.functions import regexp_extract, regexp_replace\n",
    "from pyspark.sql.functions import *\n",
    "from pyspark.sql.functions import col, expr"
   ]
  },
  {
   "cell_type": "markdown",
   "id": "87cb5db8-a7d6-4581-aca5-b373f3e23da4",
   "metadata": {},
   "source": [
    "# 1.) Create a spark data frame that contains your favorite programming languages.\n",
    "\n",
    " - The name of the column should be language\n",
    " - View the schema of the dataframe\n",
    " - Output the shape of the dataframe\n",
    " - Show the first 5 records in the dataframe"
   ]
  },
  {
   "cell_type": "code",
   "execution_count": 4,
   "id": "8a9e76a6-d380-48c1-995b-71812c82d8b2",
   "metadata": {},
   "outputs": [],
   "source": [
    "pd_df = pd.DataFrame({'language': ['Python','JavaScript','Java','Jupyter','Nim','C++','R','sql']})"
   ]
  },
  {
   "cell_type": "code",
   "execution_count": 5,
   "id": "25397747-aaa9-48a4-883c-c0ba2659bdc0",
   "metadata": {},
   "outputs": [
    {
     "data": {
      "text/html": [
       "<div>\n",
       "<style scoped>\n",
       "    .dataframe tbody tr th:only-of-type {\n",
       "        vertical-align: middle;\n",
       "    }\n",
       "\n",
       "    .dataframe tbody tr th {\n",
       "        vertical-align: top;\n",
       "    }\n",
       "\n",
       "    .dataframe thead th {\n",
       "        text-align: right;\n",
       "    }\n",
       "</style>\n",
       "<table border=\"1\" class=\"dataframe\">\n",
       "  <thead>\n",
       "    <tr style=\"text-align: right;\">\n",
       "      <th></th>\n",
       "      <th>language</th>\n",
       "    </tr>\n",
       "  </thead>\n",
       "  <tbody>\n",
       "    <tr>\n",
       "      <th>0</th>\n",
       "      <td>Python</td>\n",
       "    </tr>\n",
       "    <tr>\n",
       "      <th>1</th>\n",
       "      <td>JavaScript</td>\n",
       "    </tr>\n",
       "    <tr>\n",
       "      <th>2</th>\n",
       "      <td>Java</td>\n",
       "    </tr>\n",
       "    <tr>\n",
       "      <th>3</th>\n",
       "      <td>Jupyter</td>\n",
       "    </tr>\n",
       "    <tr>\n",
       "      <th>4</th>\n",
       "      <td>Nim</td>\n",
       "    </tr>\n",
       "    <tr>\n",
       "      <th>5</th>\n",
       "      <td>C++</td>\n",
       "    </tr>\n",
       "    <tr>\n",
       "      <th>6</th>\n",
       "      <td>R</td>\n",
       "    </tr>\n",
       "    <tr>\n",
       "      <th>7</th>\n",
       "      <td>sql</td>\n",
       "    </tr>\n",
       "  </tbody>\n",
       "</table>\n",
       "</div>"
      ],
      "text/plain": [
       "     language\n",
       "0      Python\n",
       "1  JavaScript\n",
       "2        Java\n",
       "3     Jupyter\n",
       "4         Nim\n",
       "5         C++\n",
       "6           R\n",
       "7         sql"
      ]
     },
     "execution_count": 5,
     "metadata": {},
     "output_type": "execute_result"
    }
   ],
   "source": [
    "#that sure looks like the name of the column is language to me\n",
    "pd_df"
   ]
  },
  {
   "cell_type": "code",
   "execution_count": 6,
   "id": "dc304ff4-59e8-4e14-878c-ff5a6012d1ee",
   "metadata": {},
   "outputs": [
    {
     "data": {
      "text/plain": [
       "DataFrame[language: string]"
      ]
     },
     "execution_count": 6,
     "metadata": {},
     "output_type": "execute_result"
    }
   ],
   "source": [
    "#turn it into a spark df\n",
    "df = spark.createDataFrame(pd_df)\n",
    "df"
   ]
  },
  {
   "cell_type": "code",
   "execution_count": 7,
   "id": "31438996-e9b9-4ae3-b9d3-0a0407f643b0",
   "metadata": {},
   "outputs": [
    {
     "data": {
      "text/plain": [
       "StructType(List(StructField(language,StringType,true)))"
      ]
     },
     "execution_count": 7,
     "metadata": {},
     "output_type": "execute_result"
    }
   ],
   "source": [
    "#view schema\n",
    "df.schema"
   ]
  },
  {
   "cell_type": "code",
   "execution_count": 8,
   "id": "fee98e67-10c0-4b4a-8ff5-85d959e8de16",
   "metadata": {},
   "outputs": [
    {
     "name": "stdout",
     "output_type": "stream",
     "text": [
      "(8, 1)\n"
     ]
    }
   ],
   "source": [
    "#the shape\n",
    "print((df.count(), len(df.columns)))"
   ]
  },
  {
   "cell_type": "code",
   "execution_count": 9,
   "id": "d8d7a153-dfca-4745-9c56-202c56a90d6c",
   "metadata": {},
   "outputs": [
    {
     "name": "stdout",
     "output_type": "stream",
     "text": [
      "+----------+\n",
      "|  language|\n",
      "+----------+\n",
      "|    Python|\n",
      "|JavaScript|\n",
      "|      Java|\n",
      "|   Jupyter|\n",
      "|       Nim|\n",
      "+----------+\n",
      "only showing top 5 rows\n",
      "\n"
     ]
    }
   ],
   "source": [
    "#the first 5 rows\n",
    "df.show(5)"
   ]
  },
  {
   "cell_type": "markdown",
   "id": "1a61698a-d4d1-4a71-9415-e85b8dd24f23",
   "metadata": {},
   "source": [
    "# 2.) Load the mpg dataset as a spark dataframe."
   ]
  },
  {
   "cell_type": "markdown",
   "id": "9e0398f2-6fcf-4dab-914b-8ab7596b848d",
   "metadata": {},
   "source": [
    "### a.) Create 1 column of output that contains a message like the one below:\n",
    "\n",
    "*The 1999 audi a4 has a 4 cylinder engine.*\n",
    "\n",
    "\n",
    "for each vehicle"
   ]
  },
  {
   "cell_type": "code",
   "execution_count": 10,
   "id": "59ffc846-dd7e-477a-b17c-93e0dd11ccba",
   "metadata": {},
   "outputs": [],
   "source": [
    "#bring in our mpg dataset as a spark dataframe\n",
    "mpg = spark.createDataFrame(data(\"mpg\"))"
   ]
  },
  {
   "cell_type": "code",
   "execution_count": 11,
   "id": "c578ab1e-2030-4827-bb2d-47d27680c2cf",
   "metadata": {},
   "outputs": [
    {
     "name": "stdout",
     "output_type": "stream",
     "text": [
      "+------------+------------------+-----+----+---+----------+---+---+---+---+-------+\n",
      "|manufacturer|             model|displ|year|cyl|     trans|drv|cty|hwy| fl|  class|\n",
      "+------------+------------------+-----+----+---+----------+---+---+---+---+-------+\n",
      "|        audi|                a4|  1.8|1999|  4|  auto(l5)|  f| 18| 29|  p|compact|\n",
      "|        audi|                a4|  1.8|1999|  4|manual(m5)|  f| 21| 29|  p|compact|\n",
      "|        audi|                a4|  2.0|2008|  4|manual(m6)|  f| 20| 31|  p|compact|\n",
      "|        audi|                a4|  2.0|2008|  4|  auto(av)|  f| 21| 30|  p|compact|\n",
      "|        audi|                a4|  2.8|1999|  6|  auto(l5)|  f| 16| 26|  p|compact|\n",
      "|        audi|                a4|  2.8|1999|  6|manual(m5)|  f| 18| 26|  p|compact|\n",
      "|        audi|                a4|  3.1|2008|  6|  auto(av)|  f| 18| 27|  p|compact|\n",
      "|        audi|        a4 quattro|  1.8|1999|  4|manual(m5)|  4| 18| 26|  p|compact|\n",
      "|        audi|        a4 quattro|  1.8|1999|  4|  auto(l5)|  4| 16| 25|  p|compact|\n",
      "|        audi|        a4 quattro|  2.0|2008|  4|manual(m6)|  4| 20| 28|  p|compact|\n",
      "|        audi|        a4 quattro|  2.0|2008|  4|  auto(s6)|  4| 19| 27|  p|compact|\n",
      "|        audi|        a4 quattro|  2.8|1999|  6|  auto(l5)|  4| 15| 25|  p|compact|\n",
      "|        audi|        a4 quattro|  2.8|1999|  6|manual(m5)|  4| 17| 25|  p|compact|\n",
      "|        audi|        a4 quattro|  3.1|2008|  6|  auto(s6)|  4| 17| 25|  p|compact|\n",
      "|        audi|        a4 quattro|  3.1|2008|  6|manual(m6)|  4| 15| 25|  p|compact|\n",
      "|        audi|        a6 quattro|  2.8|1999|  6|  auto(l5)|  4| 15| 24|  p|midsize|\n",
      "|        audi|        a6 quattro|  3.1|2008|  6|  auto(s6)|  4| 17| 25|  p|midsize|\n",
      "|        audi|        a6 quattro|  4.2|2008|  8|  auto(s6)|  4| 16| 23|  p|midsize|\n",
      "|   chevrolet|c1500 suburban 2wd|  5.3|2008|  8|  auto(l4)|  r| 14| 20|  r|    suv|\n",
      "|   chevrolet|c1500 suburban 2wd|  5.3|2008|  8|  auto(l4)|  r| 11| 15|  e|    suv|\n",
      "+------------+------------------+-----+----+---+----------+---+---+---+---+-------+\n",
      "only showing top 20 rows\n",
      "\n"
     ]
    }
   ],
   "source": [
    "#just checking\n",
    "mpg.show()"
   ]
  },
  {
   "cell_type": "code",
   "execution_count": 12,
   "id": "9b0ea38f-c11a-492c-ad38-6747a6c4ec3c",
   "metadata": {},
   "outputs": [
    {
     "name": "stdout",
     "output_type": "stream",
     "text": [
      "+--------------------+\n",
      "|             Message|\n",
      "+--------------------+\n",
      "|The 1999 audi a4 ...|\n",
      "|The 1999 audi a4 ...|\n",
      "|The 2008 audi a4 ...|\n",
      "|The 2008 audi a4 ...|\n",
      "|The 1999 audi a4 ...|\n",
      "+--------------------+\n",
      "only showing top 5 rows\n",
      "\n"
     ]
    }
   ],
   "source": [
    "#create the message column\n",
    "mpg.select(concat(lit('The '), mpg.year, lit(' '), mpg.manufacturer, lit(' '), mpg.model, lit(' has a '), \n",
    "                mpg.cyl, lit(' cylinder engine.')).alias('Message')).show(5)"
   ]
  },
  {
   "cell_type": "markdown",
   "id": "0a946295-aab1-4e7c-95cb-d6dc28bafed3",
   "metadata": {},
   "source": [
    "### b.) Transform the trans column so that it only contains either manual or auto."
   ]
  },
  {
   "cell_type": "code",
   "execution_count": 13,
   "id": "eed6ed62-b27d-450a-9bb0-014fc19a89ef",
   "metadata": {},
   "outputs": [
    {
     "name": "stdout",
     "output_type": "stream",
     "text": [
      "+----------+------------+\n",
      "|     trans|transmission|\n",
      "+----------+------------+\n",
      "|  auto(l5)|        auto|\n",
      "|manual(m5)|      manual|\n",
      "|manual(m6)|      manual|\n",
      "|  auto(av)|        auto|\n",
      "|  auto(l5)|        auto|\n",
      "|manual(m5)|      manual|\n",
      "|  auto(av)|        auto|\n",
      "|manual(m5)|      manual|\n",
      "|  auto(l5)|        auto|\n",
      "|manual(m6)|      manual|\n",
      "|  auto(s6)|        auto|\n",
      "|  auto(l5)|        auto|\n",
      "|manual(m5)|      manual|\n",
      "|  auto(s6)|        auto|\n",
      "|manual(m6)|      manual|\n",
      "|  auto(l5)|        auto|\n",
      "|  auto(s6)|        auto|\n",
      "|  auto(s6)|        auto|\n",
      "|  auto(l4)|        auto|\n",
      "|  auto(l4)|        auto|\n",
      "+----------+------------+\n",
      "only showing top 20 rows\n",
      "\n"
     ]
    }
   ],
   "source": [
    "#select trans column\n",
    "#replace contents in trans that start with special character, then some characters, to a special character being the last\n",
    "#replace with nothing\n",
    "#name the column \n",
    "#show\n",
    "mpg.select('trans',regexp_replace('trans', r'\\(\\w+\\)$', '').alias('transmission')).show()"
   ]
  },
  {
   "cell_type": "markdown",
   "id": "d4ad62f9-110e-4ccc-bb60-6fba488c49dd",
   "metadata": {},
   "source": [
    "# 3.) Load the tips dataset as a spark dataframe."
   ]
  },
  {
   "cell_type": "code",
   "execution_count": 14,
   "id": "037dc1d5-b9a2-4a82-ae19-722c94afda2f",
   "metadata": {},
   "outputs": [],
   "source": [
    "#tips data into spark dataframe\n",
    "tips = spark.createDataFrame(data(\"tips\"))"
   ]
  },
  {
   "cell_type": "code",
   "execution_count": 15,
   "id": "fbe9652b-c7c8-40ed-974e-fbae92cf2f75",
   "metadata": {},
   "outputs": [
    {
     "name": "stdout",
     "output_type": "stream",
     "text": [
      "+----------+----+------+------+---+------+----+\n",
      "|total_bill| tip|   sex|smoker|day|  time|size|\n",
      "+----------+----+------+------+---+------+----+\n",
      "|     16.99|1.01|Female|    No|Sun|Dinner|   2|\n",
      "|     10.34|1.66|  Male|    No|Sun|Dinner|   3|\n",
      "|     21.01| 3.5|  Male|    No|Sun|Dinner|   3|\n",
      "|     23.68|3.31|  Male|    No|Sun|Dinner|   2|\n",
      "|     24.59|3.61|Female|    No|Sun|Dinner|   4|\n",
      "+----------+----+------+------+---+------+----+\n",
      "only showing top 5 rows\n",
      "\n"
     ]
    }
   ],
   "source": [
    "#quality assurance\n",
    "tips.show(5)"
   ]
  },
  {
   "cell_type": "markdown",
   "id": "6e65fd7b-e2bc-45aa-b6ba-1539cc6f453b",
   "metadata": {},
   "source": [
    "### 3a.) What percentage of observations are smokers?"
   ]
  },
  {
   "cell_type": "code",
   "execution_count": 16,
   "id": "d70a3706-f305-4a6d-a2d9-56993fcc0507",
   "metadata": {},
   "outputs": [
    {
     "data": {
      "text/plain": [
       "244"
      ]
     },
     "execution_count": 16,
     "metadata": {},
     "output_type": "execute_result"
    }
   ],
   "source": [
    "#total number of entries\n",
    "tips.count()"
   ]
  },
  {
   "cell_type": "code",
   "execution_count": 17,
   "id": "379fe0ff-5052-4f56-925e-342c579a4bf1",
   "metadata": {},
   "outputs": [
    {
     "data": {
      "text/plain": [
       "93"
      ]
     },
     "execution_count": 17,
     "metadata": {},
     "output_type": "execute_result"
    }
   ],
   "source": [
    "#the number of smokers\n",
    "tips.filter(tips.smoker == 'Yes').count()"
   ]
  },
  {
   "cell_type": "code",
   "execution_count": 18,
   "id": "54005dda-3344-40b5-8676-1f7fa50e098a",
   "metadata": {},
   "outputs": [],
   "source": [
    "#smoker percentage will be the number of smokers divided by number of entries\n",
    "smoke_percentage = ((tips.filter(tips.smoker == 'Yes').count())/(tips.count()))*100"
   ]
  },
  {
   "cell_type": "code",
   "execution_count": 19,
   "id": "ea8dbdb8-8ec3-4e14-ba92-cf2f2dc73fb9",
   "metadata": {},
   "outputs": [
    {
     "name": "stdout",
     "output_type": "stream",
     "text": [
      "The percentage of observations that are smokers is 38.114754098360656%\n"
     ]
    }
   ],
   "source": [
    "print(f'The percentage of observations that are smokers is {smoke_percentage}%')"
   ]
  },
  {
   "cell_type": "markdown",
   "id": "f010f54c-e448-4cbb-89cf-233ea6c68e9c",
   "metadata": {},
   "source": [
    "### 3b.) Create a column that contains the tip percentage"
   ]
  },
  {
   "cell_type": "code",
   "execution_count": 20,
   "id": "92278944-81cb-4a78-907b-6806718a4a64",
   "metadata": {},
   "outputs": [
    {
     "name": "stdout",
     "output_type": "stream",
     "text": [
      "+----------+-----+-----+\n",
      "|tip_amount| bill| tip%|\n",
      "+----------+-----+-----+\n",
      "|      1.01|16.99| 5.94|\n",
      "|      1.66|10.34|16.05|\n",
      "|       3.5|21.01|16.66|\n",
      "|      3.31|23.68|13.98|\n",
      "|      3.61|24.59|14.68|\n",
      "+----------+-----+-----+\n",
      "only showing top 5 rows\n",
      "\n"
     ]
    }
   ],
   "source": [
    "tip_percentage = round(((col(\"tip\") / col(\"total_bill\"))) * 100,2)\n",
    "\n",
    "tips.select(\n",
    "    col(\"tip\").alias(\"tip_amount\"),\n",
    "    tips.total_bill.alias(\"bill\"),\n",
    "    tip_percentage.alias(\"tip%\"),\n",
    ").show(5)"
   ]
  },
  {
   "cell_type": "code",
   "execution_count": 21,
   "id": "0289c457-f60e-45c1-be1a-529890ffd4be",
   "metadata": {},
   "outputs": [],
   "source": [
    "#just select, put the calculation in, and give it an alias if you wish\n",
    "tips = tips.select('*', (tips.tip / tips.total_bill).alias('tip_pct'))"
   ]
  },
  {
   "cell_type": "code",
   "execution_count": 22,
   "id": "333d0d96-de86-44fd-b8ab-6e74940a38c6",
   "metadata": {},
   "outputs": [
    {
     "name": "stdout",
     "output_type": "stream",
     "text": [
      "+----------+----+------+------+---+------+----+-------------------+\n",
      "|total_bill| tip|   sex|smoker|day|  time|size|            tip_pct|\n",
      "+----------+----+------+------+---+------+----+-------------------+\n",
      "|     16.99|1.01|Female|    No|Sun|Dinner|   2|0.05944673337257211|\n",
      "|     10.34|1.66|  Male|    No|Sun|Dinner|   3|0.16054158607350097|\n",
      "|     21.01| 3.5|  Male|    No|Sun|Dinner|   3|0.16658733936220846|\n",
      "|     23.68|3.31|  Male|    No|Sun|Dinner|   2| 0.1397804054054054|\n",
      "|     24.59|3.61|Female|    No|Sun|Dinner|   4|0.14680764538430255|\n",
      "+----------+----+------+------+---+------+----+-------------------+\n",
      "only showing top 5 rows\n",
      "\n"
     ]
    }
   ],
   "source": [
    "#wow!\n",
    "tips.show(5)"
   ]
  },
  {
   "cell_type": "markdown",
   "id": "12a99641-ec0f-4491-ab36-0476576b83f4",
   "metadata": {},
   "source": [
    "### 3c.) Calculate the average tip percentage for each combination of sex and smoker."
   ]
  },
  {
   "cell_type": "code",
   "execution_count": 23,
   "id": "d65fe6ad-5400-42ab-85f2-dbaad69402c5",
   "metadata": {},
   "outputs": [
    {
     "name": "stdout",
     "output_type": "stream",
     "text": [
      "+------+------------------+-------------------+\n",
      "|   sex|                No|                Yes|\n",
      "+------+------------------+-------------------+\n",
      "|Female|0.1569209707691836|0.18215035269941032|\n",
      "|  Male|0.1606687151291298|0.15277117520248512|\n",
      "+------+------------------+-------------------+\n",
      "\n"
     ]
    }
   ],
   "source": [
    "#group by sex, and whether they smoke or not, then calculate the mean tip pct for each groups.\n",
    "tips.groupby('sex').pivot('smoker').mean('tip_pct').show()"
   ]
  },
  {
   "cell_type": "markdown",
   "id": "9b814467-9ed9-415c-b7db-c3724a2e051f",
   "metadata": {},
   "source": [
    "# 4.) Use the seattle weather dataset referenced in the lesson to answer the questions below."
   ]
  },
  {
   "cell_type": "code",
   "execution_count": 24,
   "id": "766a24be-c62d-486f-950c-3e001ed7ac12",
   "metadata": {},
   "outputs": [
    {
     "name": "stdout",
     "output_type": "stream",
     "text": [
      "+----------+-------------+--------+--------+----+-------+\n",
      "|      date|precipitation|temp_max|temp_min|wind|weather|\n",
      "+----------+-------------+--------+--------+----+-------+\n",
      "|2012-01-01|          0.0|    12.8|     5.0| 4.7|drizzle|\n",
      "|2012-01-02|         10.9|    10.6|     2.8| 4.5|   rain|\n",
      "|2012-01-03|          0.8|    11.7|     7.2| 2.3|   rain|\n",
      "|2012-01-04|         20.3|    12.2|     5.6| 4.7|   rain|\n",
      "|2012-01-05|          1.3|     8.9|     2.8| 6.1|   rain|\n",
      "+----------+-------------+--------+--------+----+-------+\n",
      "only showing top 5 rows\n",
      "\n"
     ]
    }
   ],
   "source": [
    "#import data from vega\n",
    "from vega_datasets import data\n",
    "\n",
    "weather = data.seattle_weather().assign(date=lambda df: df.date.astype(str))\n",
    "weather = spark.createDataFrame(weather)\n",
    "weather.show(5)"
   ]
  },
  {
   "cell_type": "markdown",
   "id": "a27b72ca-792c-4214-8181-941796e0ca94",
   "metadata": {},
   "source": [
    "### 4a.) Convert the temperatures to fahrenheit."
   ]
  },
  {
   "cell_type": "raw",
   "id": "b56253bb-337d-4b33-bb83-e49f4446c90b",
   "metadata": {},
   "source": [
    "(0°C × 9/5) + 32"
   ]
  },
  {
   "cell_type": "code",
   "execution_count": 25,
   "id": "10c96d5c-169e-4949-8613-9889398417d7",
   "metadata": {},
   "outputs": [],
   "source": [
    "#quick online search to convert celcius to fahrenheit\n",
    "def convert_temp(c):\n",
    "    '''\n",
    "    converts celcius to fahrenheit\n",
    "    '''\n",
    "    f = (c*(9/5)) +32\n",
    "    return f"
   ]
  },
  {
   "cell_type": "code",
   "execution_count": 26,
   "id": "dbc22c48-63c8-4e36-9ed5-29fba8a1d1e7",
   "metadata": {},
   "outputs": [],
   "source": [
    "#convert min temps and max temps to fahrenheit\n",
    "weather = weather.select('*', convert_temp(weather.temp_max).alias('new_temp_max'), convert_temp(weather.temp_min).alias('new_temp_min'))"
   ]
  },
  {
   "cell_type": "code",
   "execution_count": 27,
   "id": "224d2119-6256-4757-9ace-c044f61e0d0d",
   "metadata": {},
   "outputs": [
    {
     "name": "stdout",
     "output_type": "stream",
     "text": [
      "+----------+-------------+--------+--------+----+-------+------------------+------------+\n",
      "|      date|precipitation|temp_max|temp_min|wind|weather|      new_temp_max|new_temp_min|\n",
      "+----------+-------------+--------+--------+----+-------+------------------+------------+\n",
      "|2012-01-01|          0.0|    12.8|     5.0| 4.7|drizzle|55.040000000000006|        41.0|\n",
      "|2012-01-02|         10.9|    10.6|     2.8| 4.5|   rain|             51.08|       37.04|\n",
      "|2012-01-03|          0.8|    11.7|     7.2| 2.3|   rain|             53.06|       44.96|\n",
      "|2012-01-04|         20.3|    12.2|     5.6| 4.7|   rain|             53.96|       42.08|\n",
      "|2012-01-05|          1.3|     8.9|     2.8| 6.1|   rain|48.019999999999996|       37.04|\n",
      "+----------+-------------+--------+--------+----+-------+------------------+------------+\n",
      "only showing top 5 rows\n",
      "\n"
     ]
    }
   ],
   "source": [
    "weather.show(5)"
   ]
  },
  {
   "cell_type": "markdown",
   "id": "582d2eb0-de96-4d07-9c72-a2e675570e45",
   "metadata": {},
   "source": [
    "### 4b.) Which month has the most rain, on average?"
   ]
  },
  {
   "cell_type": "code",
   "execution_count": 28,
   "id": "e9cbaedd-539e-4c46-bde6-0406d3a50fd4",
   "metadata": {},
   "outputs": [],
   "source": [
    "#we're going to need these\n",
    "from pyspark.sql.functions import month, year, quarter"
   ]
  },
  {
   "cell_type": "code",
   "execution_count": 30,
   "id": "7938a9c1-27cc-4a68-9356-d9f9dba88ff8",
   "metadata": {},
   "outputs": [
    {
     "name": "stdout",
     "output_type": "stream",
     "text": [
      "+-----+------------------+\n",
      "|month|    total_rainfall|\n",
      "+-----+------------------+\n",
      "|    7|              48.2|\n",
      "|    6|             132.9|\n",
      "|    8|             163.7|\n",
      "|    5|             207.5|\n",
      "|    9|235.49999999999997|\n",
      "|    4|             375.4|\n",
      "|    2|             422.0|\n",
      "|    1|465.99999999999994|\n",
      "|   10|             503.4|\n",
      "|    3|             606.2|\n",
      "|   12| 622.7000000000002|\n",
      "|   11|             642.5|\n",
      "+-----+------------------+\n",
      "\n"
     ]
    }
   ],
   "source": [
    "(\n",
    "    weather.withColumn(\"month\", month(\"date\"))\n",
    "    .groupBy(\"month\")\n",
    "    .agg(sum(\"precipitation\").alias(\"total_rainfall\"))\n",
    "    .sort(\"total_rainfall\")\n",
    "    .show()\n",
    ")"
   ]
  },
  {
   "cell_type": "markdown",
   "id": "09245e49-5bc1-48f1-8389-e8fd01cba513",
   "metadata": {},
   "source": [
    "November has the most rain on average"
   ]
  },
  {
   "cell_type": "markdown",
   "id": "d3024756-4351-43de-a449-5174d1c5ab4f",
   "metadata": {},
   "source": [
    "### 4c.) Which year was the windiest?"
   ]
  },
  {
   "cell_type": "code",
   "execution_count": 32,
   "id": "5dab243a-e8ac-4ac9-8dcf-30455effd378",
   "metadata": {},
   "outputs": [
    {
     "name": "stdout",
     "output_type": "stream",
     "text": [
      "+----+------------------+\n",
      "|year|        total_wind|\n",
      "+----+------------------+\n",
      "|2013|1100.8000000000006|\n",
      "|2015|1153.3000000000002|\n",
      "|2014|1236.5000000000007|\n",
      "|2012|            1244.7|\n",
      "+----+------------------+\n",
      "\n"
     ]
    }
   ],
   "source": [
    "(\n",
    "    weather.withColumn(\"year\", year(\"date\"))\n",
    "    .groupBy(\"year\")\n",
    "    .agg(sum(\"wind\").alias(\"total_wind\"))\n",
    "    .sort(\"total_wind\")\n",
    "    .show()\n",
    ")"
   ]
  },
  {
   "cell_type": "markdown",
   "id": "fe9d86ba-e687-4d6a-93e4-770ba169d593",
   "metadata": {},
   "source": [
    "2012 had the most wind"
   ]
  },
  {
   "cell_type": "markdown",
   "id": "b6e9aebc-ae16-4e24-b702-fc1906b27de0",
   "metadata": {},
   "source": [
    "### 4d.) What is the most frequent type of weather in January?"
   ]
  },
  {
   "cell_type": "code",
   "execution_count": 42,
   "id": "70755a7b-5c3c-42a2-a1fb-4cf25280ebb2",
   "metadata": {},
   "outputs": [
    {
     "name": "stdout",
     "output_type": "stream",
     "text": [
      "+----------+-------------+--------+--------+----+-------+------------------+------------+\n",
      "|      date|precipitation|temp_max|temp_min|wind|weather|      new_temp_max|new_temp_min|\n",
      "+----------+-------------+--------+--------+----+-------+------------------+------------+\n",
      "|2012-01-01|          0.0|    12.8|     5.0| 4.7|drizzle|55.040000000000006|        41.0|\n",
      "|2012-01-02|         10.9|    10.6|     2.8| 4.5|   rain|             51.08|       37.04|\n",
      "|2012-01-03|          0.8|    11.7|     7.2| 2.3|   rain|             53.06|       44.96|\n",
      "|2012-01-04|         20.3|    12.2|     5.6| 4.7|   rain|             53.96|       42.08|\n",
      "|2012-01-05|          1.3|     8.9|     2.8| 6.1|   rain|48.019999999999996|       37.04|\n",
      "+----------+-------------+--------+--------+----+-------+------------------+------------+\n",
      "only showing top 5 rows\n",
      "\n"
     ]
    }
   ],
   "source": [
    "weather.show(5)"
   ]
  },
  {
   "cell_type": "code",
   "execution_count": 44,
   "id": "0319ea8c-eda4-4f59-a09c-7ed43b409f88",
   "metadata": {},
   "outputs": [],
   "source": [
    "weather = weather.withColumn('month', month('date'))"
   ]
  },
  {
   "cell_type": "code",
   "execution_count": 45,
   "id": "07ce0294-7445-41fb-8fe2-a2ea98cc5e2e",
   "metadata": {},
   "outputs": [
    {
     "name": "stdout",
     "output_type": "stream",
     "text": [
      "+----------+-------------+--------+--------+----+-------+------------------+------------+-----+\n",
      "|      date|precipitation|temp_max|temp_min|wind|weather|      new_temp_max|new_temp_min|month|\n",
      "+----------+-------------+--------+--------+----+-------+------------------+------------+-----+\n",
      "|2012-01-01|          0.0|    12.8|     5.0| 4.7|drizzle|55.040000000000006|        41.0|    1|\n",
      "|2012-01-02|         10.9|    10.6|     2.8| 4.5|   rain|             51.08|       37.04|    1|\n",
      "|2012-01-03|          0.8|    11.7|     7.2| 2.3|   rain|             53.06|       44.96|    1|\n",
      "|2012-01-04|         20.3|    12.2|     5.6| 4.7|   rain|             53.96|       42.08|    1|\n",
      "|2012-01-05|          1.3|     8.9|     2.8| 6.1|   rain|48.019999999999996|       37.04|    1|\n",
      "+----------+-------------+--------+--------+----+-------+------------------+------------+-----+\n",
      "only showing top 5 rows\n",
      "\n"
     ]
    }
   ],
   "source": [
    "weather.show(5)"
   ]
  },
  {
   "cell_type": "code",
   "execution_count": 52,
   "id": "43174bd0-9441-4946-8705-7c32cc2a0e8a",
   "metadata": {},
   "outputs": [
    {
     "name": "stdout",
     "output_type": "stream",
     "text": [
      "+-------------+-------+---+----+----+---+\n",
      "|month_weather|drizzle|fog|rain|snow|sun|\n",
      "+-------------+-------+---+----+----+---+\n",
      "|            5|      1| 25|  16|   0| 82|\n",
      "|           10|      4| 55|  20|   0| 45|\n",
      "|            1|     10| 38|  35|   8| 33|\n",
      "|            6|      2| 14|  19|   0| 85|\n",
      "|            9|      5| 40|   4|   0| 71|\n",
      "|            2|      4| 36|  40|   3| 30|\n",
      "|           12|      2| 54|  23|   5| 40|\n",
      "|            7|      8| 13|  14|   0| 89|\n",
      "|            3|      3| 36|  37|   6| 42|\n",
      "|           11|      3| 50|  25|   0| 42|\n",
      "|            8|      8| 16|   6|   0| 94|\n",
      "|            4|      4| 34|  20|   1| 61|\n",
      "+-------------+-------+---+----+----+---+\n",
      "\n"
     ]
    }
   ],
   "source": [
    "weather.crosstab('month', 'weather').show()"
   ]
  },
  {
   "cell_type": "markdown",
   "id": "34153135-d605-4ba9-a1ec-edfcdd6e2f3e",
   "metadata": {},
   "source": [
    "Fog is the most common weather type for January"
   ]
  },
  {
   "cell_type": "markdown",
   "id": "4c88ef21-7185-4e29-80f1-767a78fa319c",
   "metadata": {},
   "source": [
    "### 4e.) What is the average high and low temperature on sunny days in July in 2013 and 2014?"
   ]
  },
  {
   "cell_type": "code",
   "execution_count": 56,
   "id": "d91facb7-9da1-4d3c-9364-375e5a44df44",
   "metadata": {},
   "outputs": [],
   "source": [
    "weather = weather.withColumn('year', year('date'))"
   ]
  },
  {
   "cell_type": "code",
   "execution_count": 57,
   "id": "427fb7a6-9f2f-40a7-8c83-7c3576d9b28e",
   "metadata": {},
   "outputs": [
    {
     "name": "stdout",
     "output_type": "stream",
     "text": [
      "+----------+-------------+--------+--------+----+-------+------------------+------------+-----+----+\n",
      "|      date|precipitation|temp_max|temp_min|wind|weather|      new_temp_max|new_temp_min|month|year|\n",
      "+----------+-------------+--------+--------+----+-------+------------------+------------+-----+----+\n",
      "|2012-01-01|          0.0|    12.8|     5.0| 4.7|drizzle|55.040000000000006|        41.0|    1|2012|\n",
      "|2012-01-02|         10.9|    10.6|     2.8| 4.5|   rain|             51.08|       37.04|    1|2012|\n",
      "|2012-01-03|          0.8|    11.7|     7.2| 2.3|   rain|             53.06|       44.96|    1|2012|\n",
      "|2012-01-04|         20.3|    12.2|     5.6| 4.7|   rain|             53.96|       42.08|    1|2012|\n",
      "|2012-01-05|          1.3|     8.9|     2.8| 6.1|   rain|48.019999999999996|       37.04|    1|2012|\n",
      "+----------+-------------+--------+--------+----+-------+------------------+------------+-----+----+\n",
      "only showing top 5 rows\n",
      "\n"
     ]
    }
   ],
   "source": [
    "weather.show(5)"
   ]
  },
  {
   "cell_type": "code",
   "execution_count": 64,
   "id": "bd2250d5-94ec-4150-ab71-5bf13e2868aa",
   "metadata": {},
   "outputs": [
    {
     "name": "stdout",
     "output_type": "stream",
     "text": [
      "+-------+------------------+------------------+\n",
      "|weather|              2013|              2014|\n",
      "+-------+------------------+------------------+\n",
      "|    fog| 22.96666666666667|25.439999999999998|\n",
      "|   rain|              22.2|              29.4|\n",
      "|    sun|26.585185185185193|            27.092|\n",
      "+-------+------------------+------------------+\n",
      "\n"
     ]
    }
   ],
   "source": [
    "weather.filter(expr(\n",
    "    '(year == 2013 OR year == 2014) AND month == 07')).groupby('weather').pivot('year').mean('temp_max').show()"
   ]
  },
  {
   "cell_type": "code",
   "execution_count": 63,
   "id": "aedffb68-7bf9-42b1-86ef-0f4e9331cdde",
   "metadata": {},
   "outputs": [
    {
     "name": "stdout",
     "output_type": "stream",
     "text": [
      "+-------+------------------+------------------+\n",
      "|weather|              2013|              2014|\n",
      "+-------+------------------+------------------+\n",
      "|    fog|13.133333333333335|14.440000000000001|\n",
      "|   rain|              15.0|              15.0|\n",
      "|    sun|13.981481481481483|14.400000000000002|\n",
      "+-------+------------------+------------------+\n",
      "\n"
     ]
    }
   ],
   "source": [
    "weather.filter(expr(\n",
    "    '(year == 2013 OR year == 2014) AND month == 07')).groupby('weather').pivot('year').mean('temp_min').show()"
   ]
  },
  {
   "cell_type": "markdown",
   "id": "bb0ce8c7-b396-4445-b330-997dfec63fa4",
   "metadata": {},
   "source": [
    " - Average low in July 2013 for sunny days is 13.98\n",
    " - Average high in July 2013 for sunny days is 26.59\n",
    " \n",
    " - Average low in July 2014 for sunny days is 14.40\n",
    " - Average high in July 2014 for sunny days is 27.09"
   ]
  },
  {
   "cell_type": "markdown",
   "id": "69e6dad7-9952-4b99-978e-64e6c1b78bbd",
   "metadata": {},
   "source": [
    "### 4f.) What percentage of days were rainy in q3 of 2015?"
   ]
  },
  {
   "cell_type": "code",
   "execution_count": 65,
   "id": "d78fd514-5794-40e8-957c-e82114391183",
   "metadata": {},
   "outputs": [],
   "source": [
    "weather = weather.withColumn('quarter', quarter('date'))"
   ]
  },
  {
   "cell_type": "code",
   "execution_count": 66,
   "id": "c19d04b4-cd51-4d43-8a71-51b657d8564f",
   "metadata": {},
   "outputs": [
    {
     "name": "stdout",
     "output_type": "stream",
     "text": [
      "+----------+-------------+--------+--------+----+-------+------------------+------------+-----+----+-------+\n",
      "|      date|precipitation|temp_max|temp_min|wind|weather|      new_temp_max|new_temp_min|month|year|quarter|\n",
      "+----------+-------------+--------+--------+----+-------+------------------+------------+-----+----+-------+\n",
      "|2012-01-01|          0.0|    12.8|     5.0| 4.7|drizzle|55.040000000000006|        41.0|    1|2012|      1|\n",
      "|2012-01-02|         10.9|    10.6|     2.8| 4.5|   rain|             51.08|       37.04|    1|2012|      1|\n",
      "|2012-01-03|          0.8|    11.7|     7.2| 2.3|   rain|             53.06|       44.96|    1|2012|      1|\n",
      "|2012-01-04|         20.3|    12.2|     5.6| 4.7|   rain|             53.96|       42.08|    1|2012|      1|\n",
      "|2012-01-05|          1.3|     8.9|     2.8| 6.1|   rain|48.019999999999996|       37.04|    1|2012|      1|\n",
      "+----------+-------------+--------+--------+----+-------+------------------+------------+-----+----+-------+\n",
      "only showing top 5 rows\n",
      "\n"
     ]
    }
   ],
   "source": [
    "weather.show(5)"
   ]
  },
  {
   "cell_type": "code",
   "execution_count": 67,
   "id": "c85f99e4-afca-422d-a3d7-b92b37d52f1f",
   "metadata": {},
   "outputs": [],
   "source": [
    "rain_q3_2015 = weather.filter(expr('year == 2015 AND quarter == 3'))"
   ]
  },
  {
   "cell_type": "code",
   "execution_count": 68,
   "id": "f289ea76-80c8-4d8c-bade-8e8c5ee816ff",
   "metadata": {},
   "outputs": [
    {
     "name": "stdout",
     "output_type": "stream",
     "text": [
      "+----------+-------------+--------+--------+----+-------+-----------------+-----------------+-----+----+-------+\n",
      "|      date|precipitation|temp_max|temp_min|wind|weather|     new_temp_max|     new_temp_min|month|year|quarter|\n",
      "+----------+-------------+--------+--------+----+-------+-----------------+-----------------+-----+----+-------+\n",
      "|2015-07-01|          0.0|    32.2|    17.2| 4.3|    sun|89.96000000000001|            62.96|    7|2015|      3|\n",
      "|2015-07-02|          0.0|    33.9|    17.8| 3.4|    sun|            93.02|64.03999999999999|    7|2015|      3|\n",
      "|2015-07-03|          0.0|    33.3|    17.8| 2.6|    sun|            91.94|64.03999999999999|    7|2015|      3|\n",
      "|2015-07-04|          0.0|    33.3|    15.0| 2.9|    sun|            91.94|             59.0|    7|2015|      3|\n",
      "|2015-07-05|          0.0|    32.8|    16.7| 2.1|    sun|91.03999999999999|            62.06|    7|2015|      3|\n",
      "+----------+-------------+--------+--------+----+-------+-----------------+-----------------+-----+----+-------+\n",
      "only showing top 5 rows\n",
      "\n"
     ]
    }
   ],
   "source": [
    "rain_q3_2015.show(5)"
   ]
  },
  {
   "cell_type": "code",
   "execution_count": 73,
   "id": "08de7372-89d7-4ea8-b602-145507054c0e",
   "metadata": {},
   "outputs": [
    {
     "data": {
      "text/plain": [
       "0.021739130434782608"
      ]
     },
     "execution_count": 73,
     "metadata": {},
     "output_type": "execute_result"
    }
   ],
   "source": [
    "rain_q3_2015.where(rain_q3_2015.weather=='rain').count() / rain_q3_2015.count()"
   ]
  },
  {
   "cell_type": "markdown",
   "id": "320663ad-32e8-4aa7-8547-65f94b0e38b9",
   "metadata": {},
   "source": [
    "### 4g.) For each year, find what percentage of days it rained (had non-zero precipitation)."
   ]
  },
  {
   "cell_type": "code",
   "execution_count": 80,
   "id": "1ca41a49-9356-4f57-bd1a-93e0c43cb61f",
   "metadata": {},
   "outputs": [
    {
     "name": "stdout",
     "output_type": "stream",
     "text": [
      "+------------+-------+---+----+----+---+\n",
      "|year_weather|drizzle|fog|rain|snow|sun|\n",
      "+------------+-------+---+----+----+---+\n",
      "|        2012|     31|  5| 191|  21|118|\n",
      "|        2015|      7|173|   5|   0|180|\n",
      "|        2014|      0|151|   3|   0|211|\n",
      "|        2013|     16| 82|  60|   2|205|\n",
      "+------------+-------+---+----+----+---+\n",
      "\n"
     ]
    }
   ],
   "source": [
    "weather.crosstab('year','weather').show()"
   ]
  },
  {
   "cell_type": "code",
   "execution_count": null,
   "id": "21087ce1-0d2e-432e-aa4d-fd37be277cbf",
   "metadata": {},
   "outputs": [],
   "source": [
    "# our years are 2012, 2013, 2014, 2015"
   ]
  },
  {
   "cell_type": "code",
   "execution_count": 84,
   "id": "dea724ef-55b8-42d7-ba5d-836f5378d5cd",
   "metadata": {},
   "outputs": [],
   "source": [
    "def percent_day_rain(string):\n",
    "    pct_rain = (weather.where(expr(string)).where(expr('precipitation > 0')).count()) / (weather.where(expr(string)).count())\n",
    "    return pct_rain"
   ]
  },
  {
   "cell_type": "code",
   "execution_count": 86,
   "id": "8bd60c13-5566-4740-b881-1fb0ae9b32c6",
   "metadata": {},
   "outputs": [
    {
     "data": {
      "text/plain": [
       "0.48360655737704916"
      ]
     },
     "execution_count": 86,
     "metadata": {},
     "output_type": "execute_result"
    }
   ],
   "source": [
    "#2012\n",
    "percent_day_rain('year==2012')"
   ]
  },
  {
   "cell_type": "code",
   "execution_count": 87,
   "id": "cb4b5842-cc81-41c8-90dd-09ab0570f69a",
   "metadata": {},
   "outputs": [
    {
     "data": {
      "text/plain": [
       "0.41643835616438357"
      ]
     },
     "execution_count": 87,
     "metadata": {},
     "output_type": "execute_result"
    }
   ],
   "source": [
    "#2013\n",
    "percent_day_rain('year == 2013')"
   ]
  },
  {
   "cell_type": "code",
   "execution_count": 88,
   "id": "51cb6f50-96d3-441e-9435-c41b3cc4d199",
   "metadata": {},
   "outputs": [
    {
     "data": {
      "text/plain": [
       "0.410958904109589"
      ]
     },
     "execution_count": 88,
     "metadata": {},
     "output_type": "execute_result"
    }
   ],
   "source": [
    "#2014\n",
    "percent_day_rain('year==2014')"
   ]
  },
  {
   "cell_type": "code",
   "execution_count": 89,
   "id": "7f3c6274-82d7-4b33-978d-83c4abab8ef8",
   "metadata": {},
   "outputs": [
    {
     "data": {
      "text/plain": [
       "0.39452054794520547"
      ]
     },
     "execution_count": 89,
     "metadata": {},
     "output_type": "execute_result"
    }
   ],
   "source": [
    "#2015\n",
    "percent_day_rain('year==2015')"
   ]
  },
  {
   "cell_type": "code",
   "execution_count": null,
   "id": "8d90d78c-c7a3-4a75-9684-a34d435e2595",
   "metadata": {},
   "outputs": [],
   "source": []
  }
 ],
 "metadata": {
  "kernelspec": {
   "display_name": "Python 3",
   "language": "python",
   "name": "python3"
  },
  "language_info": {
   "codemirror_mode": {
    "name": "ipython",
    "version": 3
   },
   "file_extension": ".py",
   "mimetype": "text/x-python",
   "name": "python",
   "nbconvert_exporter": "python",
   "pygments_lexer": "ipython3",
   "version": "3.8.5"
  }
 },
 "nbformat": 4,
 "nbformat_minor": 5
}
